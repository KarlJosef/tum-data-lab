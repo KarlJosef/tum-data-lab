{
 "cells": [
  {
   "cell_type": "markdown",
   "metadata": {},
   "source": [
    "Baseline model for value estimates  \n",
    "\n",
    "Implements the value component of the neural network.  \n",
    "In some cases this is just an additional linear layer on the policy.  \n",
    "In other cases, it is a completely separate neural network.  "
   ]
  },
  {
   "cell_type": "markdown",
   "metadata": {},
   "source": [
    "We have two different options regarind the actor critic setup:\n",
    "* Baseline --> If we have a seperate Value and Policy function\n",
    "* Unified Baseline --> If we have one network to compute the policy and the "
   ]
  },
  {
   "cell_type": "code",
   "execution_count": null,
   "metadata": {},
   "outputs": [],
   "source": [
    "def f_transform(q_values, tau):\n",
    "    max_q = tf.reduce_max(q_values, -1, keep_dims=True)\n",
    "    return tf.squeeze(max_q, [-1]) + tau * tf.log(tf.reduce_sum(tf.exp((q_values - max_q) / tau), -1))"
   ]
  },
  {
   "cell_type": "markdown",
   "metadata": {},
   "source": [
    "In unified PCL the values are computed based on the \"logits\" values computed in the policy evaluation part"
   ]
  },
  {
   "cell_type": "code",
   "execution_count": null,
   "metadata": {},
   "outputs": [],
   "source": [
    "# Get values\n",
    "(self.values, self.regression_input, self.regression_weight) = \\\n",
    "                    self.baseline.get_values(\n",
    "                            self.observations,\n",
    "                            self.actions,\n",
    "                            self.policy_internal_states, \n",
    "                            self.logits)"
   ]
  },
  {
   "cell_type": "markdown",
   "metadata": {},
   "source": []
  }
 ],
 "metadata": {
  "kernelspec": {
   "display_name": "Python 3",
   "language": "python",
   "name": "python3"
  },
  "language_info": {
   "codemirror_mode": {
    "name": "ipython",
    "version": 3
   },
   "file_extension": ".py",
   "mimetype": "text/x-python",
   "name": "python",
   "nbconvert_exporter": "python",
   "pygments_lexer": "ipython3",
   "version": "3.5.4"
  }
 },
 "nbformat": 4,
 "nbformat_minor": 2
}
