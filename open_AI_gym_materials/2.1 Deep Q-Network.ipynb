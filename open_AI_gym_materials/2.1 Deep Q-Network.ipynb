{
 "cells": [
  {
   "cell_type": "code",
   "execution_count": 1,
   "metadata": {},
   "outputs": [
    {
     "data": {
      "text/html": [
       "<style>\n",
       "    @font-face {\n",
       "        font-family: \"Computer Modern\";\n",
       "        src: url('http://mirrors.ctan.org/fonts/cm-unicode/fonts/otf/cmunss.otf');\n",
       "    }\n",
       "    div.cell{\n",
       "        width:900px;\n",
       "        margin-left:auto;\n",
       "        margin-right:auto;\n",
       "           }\n",
       "    h1 {\n",
       "        font-family: Helvetica, serif;\n",
       "            }\n",
       "    h4{\n",
       "        margin-top:12px;\n",
       "        margin-bottom: 3px;\n",
       "             }\n",
       "    div.text_cell_render{\n",
       "        font-family: Computer Modern, \"Helvetica Neue\", Arial, Helvetica, Geneva, sans-serif;\n",
       "        line-height: 145%;\n",
       "        font-size: 130%;\n",
       "        width:900px;\n",
       "        margin-left:auto;\n",
       "        margin-right:auto;\n",
       "     \ttext-align: justify;\n",
       "    }\n",
       "    .CodeMirror{\n",
       "            font-family: \"Source Code Pro\", source-code-pro,Consolas, monospace;\n",
       "    }\n",
       "    .prompt{\n",
       "            display: None;\n",
       "    }\n",
       "    .text_cell_render h5 {\n",
       "        font-weight: 300;\n",
       "        font-size: 22pt;\n",
       "        color: #4057A1;\n",
       "        font-style: italic;\n",
       "        margin-bottom: .5em;\n",
       "        margin-top: 0.5em;\n",
       "        display: block;\n",
       "          }\n",
       "    \n",
       "    .warning{\n",
       "        color: rgb( 240, 20, 20 )\n",
       "        }  \n",
       "</style>\n",
       "<script>\n",
       "    MathJax.Hub.Config({\n",
       "                TeX: {\n",
       "                    extensions: [\"AMSmath.js\"]\n",
       "                },\n",
       "                tex2jax: {\n",
       "                    inlineMath: [['$','$']],\n",
       "                    displayMath: [['$$','$$']],\n",
       "                    processEscapes: true\n",
       "                },\n",
       "                displayAlign: 'center', // Change this to 'center' to center equations.\n",
       "                \"HTML-CSS\": {\n",
       "                    styles: {'.MathJax_Display': {\"margin\": 4}}\n",
       "                }\n",
       "        });\n",
       "</script>\n"
      ],
      "text/plain": [
       "<IPython.core.display.HTML object>"
      ]
     },
     "execution_count": 1,
     "metadata": {},
     "output_type": "execute_result"
    }
   ],
   "source": [
    "from IPython.core.display import HTML  #For a more pleasing rendering...\n",
    "HTML(open(\"styles/custom.css\").read()) #When run in your local notebook."
   ]
  },
  {
   "cell_type": "markdown",
   "metadata": {},
   "source": [
    "# (Deep) Q Networks"
   ]
  },
  {
   "cell_type": "markdown",
   "metadata": {
    "collapsed": true
   },
   "source": [
    "<font> A good (and simple) problem for Q-Learning is the FrozenLake environment. The objective of this game is to cross a frozen lake from $(S)$ to $(G)$. However, not the whole lake is frozen $(F)$ yet, there are some holes $(H)$. \n",
    "To make this game harder, a wind blows the player in any direction from time to time. \n",
    "For this environment, the Q-Learning is the better strategy as it takes the wind into account.\n",
    "The agent now has to learn to find a way from $(S)$ to $(G)$. It can chose between the four actions up, down, left, and right. The reward is only given at the very end, when the agents reaches $(G)$.</font>"
   ]
  },
  {
   "cell_type": "markdown",
   "metadata": {},
   "source": [
    "<img src=\"./images/FrozenLake.PNG\" width=400/>"
   ]
  },
  {
   "cell_type": "markdown",
   "metadata": {},
   "source": [
    "## Q-Tables"
   ]
  },
  {
   "cell_type": "markdown",
   "metadata": {},
   "source": [
    "<font>As you can see in the picture above, we have 4x4 possible states.\n",
    "In each of these states, the agent can decide between 4 actions, resulting into a 16x4 Q-Table (16 state lines and 4 actions columns). We start with initializing the Q-table with all zeroes, and updating it accordingly to the rewards given over time.\n",
    "$$ $$\n",
    "For updating our Q-table we use the Bellman equation.\n",
    "This equation states, that the expected final reward is equal to the immediate reward from the current action combined with the expected reward from the best future action taken at the following state. The parameter y is a discount variable. It allows us to decide how much influence the possible future rewards ought to have compared to the prestent reward. \n",
    "By updating in this way, the table slowly begins to obtain accurate measures of the expected future reward for a given action in a given state. \n",
    "$$ $$\n",
    "<center>Eq 1. $Q(s,a) = r + γ(max(Q(s’,a’))$ </font>"
   ]
  },
  {
   "cell_type": "markdown",
   "metadata": {},
   "source": [
    "### Q-Table Learning Code"
   ]
  },
  {
   "cell_type": "markdown",
   "metadata": {},
   "source": [
    "First, we need to import a few things."
   ]
  },
  {
   "cell_type": "code",
   "execution_count": 1,
   "metadata": {},
   "outputs": [
    {
     "name": "stderr",
     "output_type": "stream",
     "text": [
      "[2017-09-22 11:08:57,210] Making new env: FrozenLake-v0\n"
     ]
    }
   ],
   "source": [
    "import gym # Load the OpenAI Gym\n",
    "import numpy as np # NumPy is the fundamental package for scientific computing with Python\n",
    "\n",
    "env = gym.make('FrozenLake-v0') # Load the enviroment"
   ]
  },
  {
   "cell_type": "markdown",
   "metadata": {},
   "source": [
    "Now, we can implement the algorithm. "
   ]
  },
  {
   "cell_type": "code",
   "execution_count": 15,
   "metadata": {
    "collapsed": true
   },
   "outputs": [],
   "source": [
    "# j =  number of steps\n",
    "# lr = learning rate\n",
    "# y = discount variable\n",
    "# s = state\n",
    "# r = rewards\n",
    "# d = done-Bit\n",
    "# a = action\n",
    "\n",
    "\n",
    "# Initialize table with all zeros with the right dimensions\n",
    "Q = np.zeros([env.observation_space.n,env.action_space.n])\n",
    "\n",
    "# Set learning parameters \n",
    "# You can play around with them if you want. \n",
    "# The best in our case were: learning_rate= .8, y=.95, and num_episodes=2000\n",
    "lr = .8\n",
    "y = .95\n",
    "num_episodes = 2000\n",
    "\n",
    "# Create lists to contain total rewards and steps per episode\n",
    "jList = [] # StepList\n",
    "rList = [] # RewardList\n",
    "\n",
    "# Go through your episodes\n",
    "for i in range(num_episodes): \n",
    "    s = env.reset() # Reset environment and get first new observation\n",
    "    rSum = 0 # Reset reward sum\n",
    "    d = False # Reset the done-Bit\n",
    "    j = 0 # Reset number of steps\n",
    "    \n",
    "    # The Q-Table learning algorithm\n",
    "    while j < 99:\n",
    "        j+=1 \n",
    "        # Choose an action by greedily picking from Q table\n",
    "        a = np.argmax(Q[s,:] + np.random.randn(1,env.action_space.n)*(1./(i+1)))\n",
    "        # Get new state and reward from environment\n",
    "        s1,r,d,_ = env.step(a)\n",
    "        # Update Q-Table with new knowledge\n",
    "        Q[s,a] = Q[s,a] + lr*(r + y*np.max(Q[s1,:]) - Q[s,a])\n",
    "        rSum += r\n",
    "        s = s1\n",
    "        if d == True: # Are we done?\n",
    "            break\n",
    "    jList.append(j)\n",
    "    rList.append(rSum)"
   ]
  },
  {
   "cell_type": "code",
   "execution_count": 16,
   "metadata": {
    "scrolled": true
   },
   "outputs": [
    {
     "name": "stdout",
     "output_type": "stream",
     "text": [
      "Final Q-Table Values: \n",
      "\n",
      "[[  2.19803186e-01   1.11506483e-02   6.07465281e-03   1.39243329e-03]\n",
      " [  0.00000000e+00   1.25383087e-03   1.29681141e-03   1.57496428e-01]\n",
      " [  1.08148574e-01   3.63110963e-04   2.27412733e-03   0.00000000e+00]\n",
      " [  8.78259523e-06   2.45722606e-03   9.38829145e-06   0.00000000e+00]\n",
      " [  3.62448302e-01   1.45889548e-03   3.46049598e-04   3.31631954e-04]\n",
      " [  0.00000000e+00   0.00000000e+00   0.00000000e+00   0.00000000e+00]\n",
      " [  7.60871473e-02   1.45111347e-06   2.46350444e-05   2.34747909e-05]\n",
      " [  0.00000000e+00   0.00000000e+00   0.00000000e+00   0.00000000e+00]\n",
      " [  0.00000000e+00   1.76364561e-04   3.04297410e-03   3.19149583e-01]\n",
      " [  3.21614751e-04   5.85274413e-01   0.00000000e+00   0.00000000e+00]\n",
      " [  3.92597888e-01   2.56844701e-04   0.00000000e+00   0.00000000e+00]\n",
      " [  0.00000000e+00   0.00000000e+00   0.00000000e+00   0.00000000e+00]\n",
      " [  0.00000000e+00   0.00000000e+00   0.00000000e+00   0.00000000e+00]\n",
      " [  6.01027645e-04   0.00000000e+00   8.60240599e-01   7.90825849e-04]\n",
      " [  0.00000000e+00   0.00000000e+00   0.00000000e+00   9.94326684e-01]\n",
      " [  0.00000000e+00   0.00000000e+00   0.00000000e+00   0.00000000e+00]]\n"
     ]
    }
   ],
   "source": [
    "print \"Final Q-Table Values: \\n\"\n",
    "print Q"
   ]
  },
  {
   "cell_type": "markdown",
   "metadata": {},
   "source": [
    "<font> Now we want to see our results. For this, we first need to include matplotlib.\n",
    "It of interest to see how many rewards we got over time for each episode, as well as how many steps we took on average. If the agent actually learned something, we should see an increase.</font>"
   ]
  },
  {
   "cell_type": "code",
   "execution_count": 17,
   "metadata": {
    "collapsed": true
   },
   "outputs": [],
   "source": [
    "import matplotlib.pyplot as plt"
   ]
  },
  {
   "cell_type": "code",
   "execution_count": 29,
   "metadata": {
    "scrolled": true
   },
   "outputs": [
    {
     "name": "stdout",
     "output_type": "stream",
     "text": [
      "Reward over time: 977.0\n",
      "Average steps taken: 38\n"
     ]
    },
    {
     "data": {
      "image/png": "[encoded data removed]",
      "text/plain": [
       "<matplotlib.figure.Figure at 0x7f2eabd01c50>"
      ]
     },
     "metadata": {},
     "output_type": "display_data"
    }
   ],
   "source": [
    "print \"Reward over time: \" +  str(sum(rList))\n",
    "print \"Average steps taken: \" +  str(sum(jList)/num_episodes)\n",
    "\n",
    "\n",
    "plt.subplot(1, 2, 1)\n",
    "plt.title('Reward over time: ')\n",
    "plt.plot(np.cumsum(rList))\n",
    "plt.subplot(1, 2, 2)\n",
    "plt.title('Average steps taken:')\n",
    "plt.plot(np.cumsum(jList)[1:]/range(len(jList))[1:])\n",
    "plt.tight_layout()\n",
    "\n",
    "plt.show()"
   ]
  },
  {
   "cell_type": "markdown",
   "metadata": {},
   "source": [
    "## Q-Network"
   ]
  },
  {
   "cell_type": "markdown",
   "metadata": {},
   "source": [
    "<font> You may ask: 'But what about the real world? It is kind of hard to put it into a table.'\n",
    "This is where Q-Networks come in. \n",
    "Q-Networks act as function approximators, so any possible state can be represented as a vector, which in turn can be used to map the Q-values.\n",
    "$$ $$\n",
    "In the case of the FrozenLake example, we will be using a one-layer network which takes the state encoded in a one-hot vector (1x16), and produces a vector of 4 Q-values, one for each action. Such a simple network acts kind of like a glorified table, with the network weights serving as the old cells. \n",
    "$$ $$\n",
    "The key difference is that we can easily expand the Tensorflow network with added layers, activation functions, and different input types, whereas all that is impossible with a regular table. \n",
    "$$ $$\n",
    "The method of updating is a little different as well. Instead of directly updating our table, with a network we will be using backpropagation and a loss function. \n",
    "$$ $$\n",
    "As loss function we use the sum of squared of the errors (SSE). This loss function is a common choice. Here, the difference between the current predicted Q-values, and the “target” value is computed and the gradients passed through the network. Our Q-target for the chosen action is equivalent to the Q-value computed in Eq1. above.\n",
    "$$ $$\n",
    "<center> Eq2. $Loss = \\sum(Q-target - Q)²$   </font>"
   ]
  },
  {
   "cell_type": "markdown",
   "metadata": {},
   "source": [
    "### Q-Network Code\n"
   ]
  },
  {
   "cell_type": "markdown",
   "metadata": {},
   "source": [
    "First, we need to import a few things."
   ]
  },
  {
   "cell_type": "code",
   "execution_count": 32,
   "metadata": {},
   "outputs": [
    {
     "name": "stderr",
     "output_type": "stream",
     "text": [
      "[2017-09-21 16:25:29,322] Making new env: FrozenLake-v0\n"
     ]
    }
   ],
   "source": [
    "import gym\n",
    "import numpy as np\n",
    "import random #random numbers\n",
    "import tensorflow as tf #tensorflow\n",
    "\n",
    "env = gym.make('FrozenLake-v0')"
   ]
  },
  {
   "cell_type": "markdown",
   "metadata": {},
   "source": [
    "Here we create the tensorflow graph."
   ]
  },
  {
   "cell_type": "code",
   "execution_count": 33,
   "metadata": {
    "collapsed": true
   },
   "outputs": [],
   "source": [
    "tf.reset_default_graph()\n",
    "\n",
    "# These lines establish the feed-forward part of the network used to choose actions\n",
    "inputs1 = tf.placeholder(shape=[1,16],dtype=tf.float32)\n",
    "W = tf.Variable(tf.random_uniform([16,4],0,0.01))\n",
    "Qout = tf.matmul(inputs1,W)\n",
    "predict = tf.argmax(Qout,1)\n",
    "\n",
    "# Below we obtain the loss by taking the sum of squares difference between the target and prediction Q values.\n",
    "nextQ = tf.placeholder(shape=[1,4],dtype=tf.float32)\n",
    "loss = tf.reduce_sum(tf.square(nextQ - Qout)) # Loss function\n",
    "trainer = tf.train.GradientDescentOptimizer(lr) \n",
    "updateModel = trainer.minimize(loss)"
   ]
  },
  {
   "cell_type": "markdown",
   "metadata": {},
   "source": [
    "#### Actual algorithm "
   ]
  },
  {
   "cell_type": "code",
   "execution_count": 34,
   "metadata": {
    "collapsed": true
   },
   "outputs": [],
   "source": [
    "# e = chance of random action\n",
    "init = tf.global_variables_initializer()\n",
    "\n",
    "# Set learning parameters\n",
    "y = .99\n",
    "e = .1\n",
    "lr = .1\n",
    "num_episodes = 2000\n",
    "\n",
    "#create lists to contain total rewards and steps per episode\n",
    "jList = []\n",
    "rList = []\n",
    "\n",
    "with tf.Session() as sess:\n",
    "    sess.run(init)\n",
    "    for i in range(num_episodes):\n",
    "        #Reset environment and get first new observation\n",
    "        s = env.reset()\n",
    "        rSum = 0\n",
    "        d = False\n",
    "        j = 0\n",
    "        \n",
    "        #The Q-Network\n",
    "        while j < 99:\n",
    "            j+=1\n",
    "            #Choose an action by greedily (with e chance of random action) from the Q-network\n",
    "            a,allQ = sess.run([predict,Qout],feed_dict={inputs1:np.identity(16)[s:s+1]})\n",
    "            if np.random.rand(1) < e:\n",
    "                a[0] = env.action_space.sample()\n",
    "            #Get new state and reward from environment\n",
    "            s1,r,d,_ = env.step(a[0])\n",
    "            #Obtain the Q' values by feeding the new state through our network\n",
    "            Q1 = sess.run(Qout,feed_dict={inputs1:np.identity(16)[s1:s1+1]})\n",
    "            #Obtain maxQ' and set our target value for chosen action.\n",
    "            maxQ1 = np.max(Q1)\n",
    "            targetQ = allQ\n",
    "            targetQ[0,a[0]] = r + y*maxQ1\n",
    "            #Train our network using target and predicted Q values\n",
    "            _,W1 = sess.run([updateModel,W],feed_dict={inputs1:np.identity(16)[s:s+1],nextQ:targetQ})\n",
    "            rSum += r\n",
    "            s = s1\n",
    "            if d == True:\n",
    "                #Reduce chance of random action as we train the model.\n",
    "                e = 1./((i/50) + 10)\n",
    "                break\n",
    "        jList.append(j)\n",
    "        rList.append(rSum)"
   ]
  },
  {
   "cell_type": "code",
   "execution_count": 35,
   "metadata": {},
   "outputs": [
    {
     "name": "stdout",
     "output_type": "stream",
     "text": [
      "Reward over time: 40.0\n",
      "Average steps taken: 6\n"
     ]
    },
    {
     "data": {
      "image/png": "[encoded data removed]",
      "text/plain": [
       "<matplotlib.figure.Figure at 0x7f2e9d3c8f90>"
      ]
     },
     "metadata": {},
     "output_type": "display_data"
    }
   ],
   "source": [
    "print \"Reward over time: \" +  str(sum(rList))\n",
    "print \"Average steps taken: \" +  str(sum(jList)/num_episodes)\n",
    "\n",
    "\n",
    "plt.subplot(1, 2, 1)\n",
    "plt.title('Reward over time: ')\n",
    "plt.plot(np.cumsum(rList))\n",
    "plt.subplot(1, 2, 2)\n",
    "plt.title('Average steps taken:')\n",
    "plt.plot(np.cumsum(jList)[1:]/range(len(jList))[1:])\n",
    "plt.tight_layout()\n",
    "\n",
    "plt.show()"
   ]
  },
  {
   "cell_type": "markdown",
   "metadata": {},
   "source": [
    "## Deep Q Network"
   ]
  },
  {
   "cell_type": "markdown",
   "metadata": {},
   "source": [
    "<font> As you can see, networks are not necessarly better than Q-tables. However, if we add another layer and change our network into a deep Q network, it tends to work better than other solutions.\n",
    "To do this, we need to:</font>"
   ]
  },
  {
   "cell_type": "markdown",
   "metadata": {},
   "source": [
    "1. Change our single-layer network into a multi-layer convolutional network\n",
    "    \n",
    "2. Implement Experience Replay\n",
    "    \n",
    "3. Use a second “target” network"
   ]
  },
  {
   "cell_type": "markdown",
   "metadata": {},
   "source": [
    "<font>The Experience Ray will allow our network to train itself with its own memories, while the second target network will compute the target Q-values during the updates.</font>"
   ]
  },
  {
   "cell_type": "markdown",
   "metadata": {},
   "source": [
    "<font>Going from a single-layer network to a multi-layer convolutional network.\n",
    "Implementing Experience Replay, which will allow our network to train itself using stored memories from it’s experience.\n",
    "Utilizing a second “target” network, which we will use to compute target Q-values during our updates.</font>"
   ]
  },
  {
   "cell_type": "markdown",
   "metadata": {},
   "source": [
    "#### Step 1. Change our single-layer network into a multi-layer convolutional network"
   ]
  },
  {
   "cell_type": "markdown",
   "metadata": {},
   "source": [
    "<img src=\"./images/Deep-Q-layer.png\" width=700/>\n",
    "\n",
    "To construct a convolutional layer in TensorFlow see the [documentation](https://www.tensorflow.org/versions/r0.12/api_docs/python/contrib.layers/higher_level_ops_for_building_neural_network_layers_#convolution2d) for further information. \n"
   ]
  },
  {
   "cell_type": "markdown",
   "metadata": {},
   "source": [
    " "
   ]
  },
  {
   "cell_type": "markdown",
   "metadata": {},
   "source": [
    "#### Step 2. Implement Experience Replay"
   ]
  },
  {
   "cell_type": "markdown",
   "metadata": {},
   "source": [
    "<font>As pointed out above, the Experience Replay allows the network to train from its experience. By storing the experience and drawing it randomly, we gain a more robust network. It is important to choose randomly as otherwise the data is highly correlated and we will likely overfit and fail to generalize. Each of these experiences are stored as a tuple of $e_t=(s_t,a_t,r_t,s_{t+1})$\n",
    "$$ $$\n",
    "An other point to consider is: Shoud we stick with a way that worked well, or try to find a better solution?\n",
    "This is called the explore-exploit dilemma – should you exploit the known working strategy or explore other, possibly better strategies. </font>\n",
    "\n",
    "**Advantages of Experience Replay**\n",
    "\n",
    "* More efficient use of previous experience, by learning with it multiple times.\n",
    "\n",
    "* Better convergence behaviour when training a function approximator.\n",
    "\n",
    "**Disadvantage of Experience Replay**\n",
    "\n",
    "* It is harder to use multi-step learning algorithms."
   ]
  },
  {
   "cell_type": "markdown",
   "metadata": {},
   "source": [
    " "
   ]
  },
  {
   "cell_type": "markdown",
   "metadata": {},
   "source": [
    "#### Step 3. Use a second “target” network"
   ]
  },
  {
   "cell_type": "markdown",
   "metadata": {},
   "source": [
    "<font> The third major addition to the DQN that makes it unique is the utilization of a second network during the training procedure. This second network is used to generate the target-Q values that will be used to compute the loss for every action during training. Why not use just use one network for both estimations? The issue is that at every step of training, the Q-network’s values shift, and if we are using a constantly shifting set of values to adjust our network values, then the value estimations can easily spiral out of control. The network can become destabilized by falling into feedback loops between the target and estimated Q-values. In order to mitigate that risk, the target network’s weights are fixed, and only periodically or slowly updated to the primary Q-networks values. In this way training can proceed in a more stable manner.</font>\n"
   ]
  },
  {
   "cell_type": "markdown",
   "metadata": {},
   "source": [
    "### A DQN Algorithm"
   ]
  },
  {
   "cell_type": "markdown",
   "metadata": {},
   "source": [
    "To show you the algorithm we'll move on to an other problem as the frozen lake enviroment is too easy and we are bound to overfit. However, the CartPole enviroment works well enough. "
   ]
  },
  {
   "cell_type": "code",
   "execution_count": 1,
   "metadata": {},
   "outputs": [
    {
     "name": "stderr",
     "output_type": "stream",
     "text": [
      "[2017-09-21 16:52:16,894] Making new env: CartPole-v0\n"
     ]
    }
   ],
   "source": [
    "from __future__ import division\n",
    "\n",
    "import gym\n",
    "import numpy as np\n",
    "import random\n",
    "import tensorflow as tf\n",
    "import matplotlib.pyplot as plt\n",
    "%matplotlib inline\n",
    "\n",
    "import tensorflow.contrib.slim as slim\n",
    "env = gym.make('CartPole-v0')"
   ]
  },
  {
   "cell_type": "markdown",
   "metadata": {},
   "source": [
    "#### Experience Replay\n",
    "\n",
    "This class allows us to store experiences and sample then randomly to train the network.\n"
   ]
  },
  {
   "cell_type": "code",
   "execution_count": 2,
   "metadata": {
    "collapsed": true
   },
   "outputs": [],
   "source": [
    "class experience_buffer():\n",
    "    def __init__(self, buffer_size = 10000):\n",
    "        self.buffer = []\n",
    "        self.buffer_size = buffer_size\n",
    "    \n",
    "    def add(self,experience):\n",
    "        if len(self.buffer) + len(experience) >= self.buffer_size:\n",
    "            self.buffer[0:(len(experience)+len(self.buffer))-self.buffer_size] = []\n",
    "        self.buffer.extend(experience)\n",
    "            \n",
    "    def sample(self,size):\n",
    "        return np.reshape(np.array(random.sample(self.buffer,size)),[size,5])\n",
    "    \n",
    "def updateTargetGraph(tfVars,tau):\n",
    "    total_vars = len(tfVars)\n",
    "    op_holder = []\n",
    "    for idx,var in enumerate(tfVars[0:total_vars//2]):\n",
    "        op_holder.append(tfVars[idx+total_vars//2].assign((var.value()*tau) + ((1-tau)*tfVars[idx+total_vars//2].value())))\n",
    "    return op_holder\n",
    "\n",
    "def updateTarget(op_holder,sess):\n",
    "    for op in op_holder:\n",
    "        sess.run(op)"
   ]
  },
  {
   "cell_type": "markdown",
   "metadata": {},
   "source": [
    "#### Implementing the network"
   ]
  },
  {
   "cell_type": "code",
   "execution_count": 3,
   "metadata": {
    "collapsed": true
   },
   "outputs": [],
   "source": [
    "class Q_Network():\n",
    "    def __init__(self):\n",
    "        #These lines establish the feed-forward part of the network used to choose actions\n",
    "        self.inputs = tf.placeholder(shape=[None,4],dtype=tf.float32)\n",
    "        self.Temp = tf.placeholder(shape=None,dtype=tf.float32)\n",
    "        self.keep_per = tf.placeholder(shape=None,dtype=tf.float32)\n",
    "\n",
    "        hidden = slim.fully_connected(self.inputs,16,activation_fn=tf.nn.tanh,biases_initializer=None)\n",
    "        hidden = slim.dropout(hidden,self.keep_per)\n",
    "        self.Q_out = slim.fully_connected(hidden,2,activation_fn=None,biases_initializer=None)\n",
    "        \n",
    "        self.predict = tf.argmax(self.Q_out,1)\n",
    "        self.Q_dist = tf.nn.softmax(self.Q_out/self.Temp)\n",
    "        \n",
    "        \n",
    "        #Below we obtain the loss by taking the sum of squares difference between the target and prediction Q values.\n",
    "        self.actions = tf.placeholder(shape=[None],dtype=tf.int32)\n",
    "        self.actions_onehot = tf.one_hot(self.actions,2,dtype=tf.float32)\n",
    "        \n",
    "        self.Q = tf.reduce_sum(tf.multiply(self.Q_out, self.actions_onehot), reduction_indices=1)\n",
    "        \n",
    "        self.nextQ = tf.placeholder(shape=[None],dtype=tf.float32)\n",
    "        loss = tf.reduce_sum(tf.square(self.nextQ - self.Q))\n",
    "        trainer = tf.train.GradientDescentOptimizer(learning_rate=0.001)\n",
    "        self.updateModel = trainer.minimize(loss)"
   ]
  },
  {
   "cell_type": "markdown",
   "metadata": {},
   "source": [
    "#### Training the network"
   ]
  },
  {
   "cell_type": "code",
   "execution_count": null,
   "metadata": {
    "collapsed": true
   },
   "outputs": [],
   "source": [
    "# Set learning parameters\n",
    "y = .99 #Discount factor.\n",
    "num_episodes = 20000 #Total number of episodes to train network for.\n",
    "tau = 0.001 #Amount to update target network at each step.\n",
    "batch_size = 32 #Size of training batch\n",
    "startE = 1 #Starting chance of random action\n",
    "endE = 0.1 #Final chance of random action\n",
    "anneling_steps = 200000 #How many steps of training to reduce startE to endE.\n",
    "pre_train_steps = 50000 #Number of steps used before training updates begin."
   ]
  },
  {
   "cell_type": "code",
   "execution_count": null,
   "metadata": {
    "scrolled": true
   },
   "outputs": [
    {
     "name": "stdout",
     "output_type": "stream",
     "text": [
      "WARNING:tensorflow:From /home/schnack/.local/lib/python2.7/site-packages/tensorflow/python/util/tf_should_use.py:175: initialize_all_variables (from tensorflow.python.ops.variables) is deprecated and will be removed after 2017-03-02.\n",
      "Instructions for updating:\n",
      "Use `tf.global_variables_initializer` instead.\n"
     ]
    },
    {
     "name": "stderr",
     "output_type": "stream",
     "text": [
      "[2017-09-21 16:52:17,540] From /home/schnack/.local/lib/python2.7/site-packages/tensorflow/python/util/tf_should_use.py:175: initialize_all_variables (from tensorflow.python.ops.variables) is deprecated and will be removed after 2017-03-02.\n",
      "Instructions for updating:\n",
      "Use `tf.global_variables_initializer` instead.\n"
     ]
    },
    {
     "name": "stdout",
     "output_type": "stream",
     "text": [
      "Mean Reward: 22.08 Episode 100 from 20000\n",
      "Mean Reward: 21.25 Episode 200 from 20000\n",
      "Mean Reward: 22.11 Episode 300 from 20000\n",
      "Mean Reward: 23.72 Episode 400 from 20000\n",
      "Mean Reward: 22.55 Episode 500 from 20000\n",
      "Mean Reward: 22.78 Episode 600 from 20000\n",
      "Mean Reward: 23.14 Episode 700 from 20000\n",
      "Mean Reward: 22.68 Episode 800 from 20000\n",
      "Mean Reward: 21.33 Episode 900 from 20000\n",
      "Mean Reward: 22.83 Episode 1000 from 20000\n",
      "Mean Reward: 24.38 Episode 1100 from 20000\n",
      "Mean Reward: 22.98 Episode 1200 from 20000\n",
      "Mean Reward: 24.4 Episode 1300 from 20000\n",
      "Mean Reward: 23.96 Episode 1400 from 20000\n",
      "Mean Reward: 23.66 Episode 1500 from 20000\n",
      "Mean Reward: 21.4 Episode 1600 from 20000\n",
      "Mean Reward: 22.33 Episode 1700 from 20000\n",
      "Mean Reward: 23.35 Episode 1800 from 20000\n",
      "Mean Reward: 23.51 Episode 1900 from 20000\n",
      "Mean Reward: 21.98 Episode 2000 from 20000\n",
      "Mean Reward: 22.33 Episode 2100 from 20000\n",
      "Mean Reward: 20.68 Episode 2200 from 20000\n",
      "Mean Reward: 21.28 Episode 2300 from 20000\n",
      "Mean Reward: 22.15 Episode 2400 from 20000\n",
      "Mean Reward: 22.25 Episode 2500 from 20000\n",
      "Mean Reward: 23.06 Episode 2600 from 20000\n",
      "Mean Reward: 22.0 Episode 2700 from 20000\n",
      "Mean Reward: 22.31 Episode 2800 from 20000\n",
      "Mean Reward: 22.06 Episode 2900 from 20000\n",
      "Mean Reward: 21.88 Episode 3000 from 20000\n",
      "Mean Reward: 21.96 Episode 3100 from 20000\n",
      "Mean Reward: 23.09 Episode 3200 from 20000\n",
      "Mean Reward: 25.67 Episode 3300 from 20000\n",
      "Mean Reward: 25.55 Episode 3400 from 20000\n",
      "Mean Reward: 24.53 Episode 3500 from 20000\n",
      "Mean Reward: 30.53 Episode 3600 from 20000\n",
      "Mean Reward: 29.55 Episode 3700 from 20000\n",
      "Mean Reward: 32.38 Episode 3800 from 20000\n",
      "Mean Reward: 35.24 Episode 3900 from 20000\n",
      "Mean Reward: 32.65 Episode 4000 from 20000\n",
      "Mean Reward: 36.77 Episode 4100 from 20000\n",
      "Mean Reward: 39.77 Episode 4200 from 20000\n",
      "Mean Reward: 49.06 Episode 4300 from 20000\n",
      "Mean Reward: 51.29 Episode 4400 from 20000\n",
      "Mean Reward: 53.81 Episode 4500 from 20000\n",
      "Mean Reward: 65.3 Episode 4600 from 20000\n",
      "Mean Reward: 62.65 Episode 4700 from 20000\n",
      "Mean Reward: 67.0 Episode 4800 from 20000\n",
      "Mean Reward: 72.65 Episode 4900 from 20000\n",
      "Mean Reward: 85.18 Episode 5000 from 20000\n",
      "Mean Reward: 85.86 Episode 5100 from 20000\n",
      "Mean Reward: 91.7 Episode 5200 from 20000\n",
      "Mean Reward: 94.7 Episode 5300 from 20000\n",
      "Mean Reward: 90.5 Episode 5400 from 20000\n",
      "Mean Reward: 98.83 Episode 5500 from 20000\n",
      "Mean Reward: 98.94 Episode 5600 from 20000\n",
      "Mean Reward: 105.7 Episode 5700 from 20000\n",
      "Mean Reward: 116.84 Episode 5800 from 20000\n",
      "Mean Reward: 121.41 Episode 5900 from 20000\n",
      "Mean Reward: 136.21 Episode 6000 from 20000\n",
      "Mean Reward: 142.85 Episode 6100 from 20000\n",
      "Mean Reward: 146.46 Episode 6200 from 20000\n",
      "Mean Reward: 148.71 Episode 6300 from 20000\n",
      "Mean Reward: 158.63 Episode 6400 from 20000\n",
      "Mean Reward: 163.54 Episode 6500 from 20000\n",
      "Mean Reward: 160.88 Episode 6600 from 20000\n",
      "Mean Reward: 171.37 Episode 6700 from 20000\n",
      "Mean Reward: 164.11 Episode 6800 from 20000\n",
      "Mean Reward: 169.79 Episode 6900 from 20000\n",
      "Mean Reward: 173.75 Episode 7000 from 20000\n",
      "Mean Reward: 172.81 Episode 7100 from 20000\n",
      "Mean Reward: 169.14 Episode 7200 from 20000\n"
     ]
    }
   ],
   "source": [
    "tf.reset_default_graph()\n",
    "\n",
    "q_net = Q_Network()\n",
    "target_net = Q_Network()\n",
    "\n",
    "init = tf.initialize_all_variables()\n",
    "trainables = tf.trainable_variables()\n",
    "targetOps = updateTargetGraph(trainables,tau)\n",
    "myBuffer = experience_buffer()\n",
    "\n",
    "\n",
    "#create lists to contain total rewards and steps per episode\n",
    "jList = []\n",
    "jMeans = []\n",
    "rList = []\n",
    "rMeans = []\n",
    "with tf.Session() as sess:\n",
    "    sess.run(init)\n",
    "    updateTarget(targetOps,sess)\n",
    "    e = startE\n",
    "    stepDrop = (startE - endE)/anneling_steps\n",
    "    total_steps = 0\n",
    "    \n",
    "    for i in range(num_episodes):\n",
    "        s = env.reset()\n",
    "        rAll = 0\n",
    "        d = False\n",
    "        j = 0\n",
    "        while j < 999:\n",
    "            j+=1\n",
    "            #Choose an action by greedily (with e chance of random action) from the Q-network\n",
    "            if np.random.rand(1) < e or total_steps < pre_train_steps:\n",
    "                a = env.action_space.sample()\n",
    "            else:\n",
    "                a,allQ = sess.run([q_net.predict,q_net.Q_out],feed_dict={q_net.inputs:[s],q_net.keep_per:1.0})\n",
    "                a = a[0]\n",
    "         \n",
    "                \n",
    "            #Get new state and reward from environment\n",
    "            s1,r,d,_ = env.step(a)\n",
    "            myBuffer.add(np.reshape(np.array([s,a,r,s1,d]),[1,5]))\n",
    "            \n",
    "            if e > endE and total_steps > pre_train_steps:\n",
    "                e -= stepDrop\n",
    "            \n",
    "            if total_steps > pre_train_steps and total_steps % 5 == 0:\n",
    "                #We use Double-DQN training algorithm\n",
    "                trainBatch = myBuffer.sample(batch_size)\n",
    "                Q1 = sess.run(q_net.predict,feed_dict={q_net.inputs:np.vstack(trainBatch[:,3]),q_net.keep_per:1.0})\n",
    "                Q2 = sess.run(target_net.Q_out,feed_dict={target_net.inputs:np.vstack(trainBatch[:,3]),target_net.keep_per:1.0})\n",
    "                end_multiplier = -(trainBatch[:,4] - 1)\n",
    "                doubleQ = Q2[range(batch_size),Q1]\n",
    "                targetQ = trainBatch[:,2] + (y*doubleQ * end_multiplier)\n",
    "                _ = sess.run(q_net.updateModel,feed_dict={q_net.inputs:np.vstack(trainBatch[:,0]),q_net.nextQ:targetQ,q_net.keep_per:1.0,q_net.actions:trainBatch[:,1]})\n",
    "                updateTarget(targetOps,sess)\n",
    "\n",
    "            rAll += r\n",
    "            s = s1\n",
    "            total_steps += 1\n",
    "            if d == True:\n",
    "                break\n",
    "        jList.append(j)\n",
    "        rList.append(rAll)\n",
    "        if i % 100 == 0 and i != 0:\n",
    "            r_mean = np.mean(rList[-100:])\n",
    "            j_mean = np.mean(jList[-100:])\n",
    "            print(\"Mean Reward: \" + str(r_mean) + \" Episode \" + str(i) + \" from \"+ str(num_episodes))\n",
    "            rMeans.append(r_mean)\n",
    "            jMeans.append(j_mean)\n",
    "print(\"Average reward: \" + str(sum(rList)/num_episodes))"
   ]
  },
  {
   "cell_type": "code",
   "execution_count": null,
   "metadata": {
    "collapsed": true
   },
   "outputs": [],
   "source": [
    "print \"Average Reward: \" + str(sum(rList)/num_episodes)\n",
    "\n",
    "plt.title('Reward over time: ')\n",
    "plt.plot(rMeans)"
   ]
  }
 ],
 "metadata": {
  "kernelspec": {
   "display_name": "Python 2",
   "language": "python",
   "name": "python2"
  },
  "language_info": {
   "codemirror_mode": {
    "name": "ipython",
    "version": 2
   },
   "file_extension": ".py",
   "mimetype": "text/x-python",
   "name": "python",
   "nbconvert_exporter": "python",
   "pygments_lexer": "ipython2",
   "version": "2.7.12"
  }
 },
 "nbformat": 4,
 "nbformat_minor": 2
}
