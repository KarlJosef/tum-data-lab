{
 "cells": [
  {
   "cell_type": "code",
   "execution_count": 1,
   "metadata": {},
   "outputs": [
    {
     "data": {
      "text/html": [
       "<style>\n",
       "    @font-face {\n",
       "        font-family: \"Computer Modern\";\n",
       "        src: url('http://mirrors.ctan.org/fonts/cm-unicode/fonts/otf/cmunss.otf');\n",
       "    }\n",
       "    div.cell{\n",
       "        width:900px;\n",
       "        margin-left:auto;\n",
       "        margin-right:auto;\n",
       "           }\n",
       "    h1 {\n",
       "        font-family: Helvetica, serif;\n",
       "            }\n",
       "    h4{\n",
       "        margin-top:12px;\n",
       "        margin-bottom: 3px;\n",
       "             }\n",
       "    div.text_cell_render{\n",
       "        font-family: Computer Modern, \"Helvetica Neue\", Arial, Helvetica, Geneva, sans-serif;\n",
       "        line-height: 145%;\n",
       "        font-size: 130%;\n",
       "        width:900px;\n",
       "        margin-left:auto;\n",
       "        margin-right:auto;\n",
       "        text-align: justify;\n",
       "    }\n",
       "    .CodeMirror{\n",
       "            font-family: \"Source Code Pro\", source-code-pro,Consolas, monospace;\n",
       "    }\n",
       "    .prompt{\n",
       "            display: None;\n",
       "    }\n",
       "    .text_cell_render h5 {\n",
       "        font-weight: 300;\n",
       "        font-size: 22pt;\n",
       "        color: #4057A1;\n",
       "        font-style: italic;\n",
       "        margin-bottom: .5em;\n",
       "        margin-top: 0.5em;\n",
       "        display: block;\n",
       "          }\n",
       "    \n",
       "    .warning{\n",
       "        color: rgb( 240, 20, 20 )\n",
       "        }  \n",
       "</style>\n",
       "<script>\n",
       "    MathJax.Hub.Config({\n",
       "                TeX: {\n",
       "                    extensions: [\"AMSmath.js\"]\n",
       "                },\n",
       "                tex2jax: {\n",
       "                    inlineMath: [['$','$']],\n",
       "                    displayMath: [['$$','$$']],\n",
       "                    processEscapes: true\n",
       "                },\n",
       "                displayAlign: 'center', // Change this to 'center' to center equations.\n",
       "                \"HTML-CSS\": {\n",
       "                    styles: {'.MathJax_Display': {\"margin\": 4}}\n",
       "                }\n",
       "        });\n",
       "</script>\n"
      ],
      "text/plain": [
       "<IPython.core.display.HTML object>"
      ]
     },
     "execution_count": 1,
     "metadata": {},
     "output_type": "execute_result"
    }
   ],
   "source": [
    "from IPython.core.display import HTML  #For a more pleasing rendering...\n",
    "HTML(open(\"styles/custom.css\").read()) "
   ]
  },
  {
   "cell_type": "markdown",
   "metadata": {},
   "source": [
    "# 0. Installation Guide"
   ]
  },
  {
   "cell_type": "markdown",
   "metadata": {},
   "source": [
    "We will start with an installation guide for your own PC, if you also want to set up an server check the [bottom](#Setting-up-the-Server) page first. "
   ]
  },
  {
   "cell_type": "markdown",
   "metadata": {},
   "source": [
    "## OpenAi Gym"
   ]
  },
  {
   "cell_type": "markdown",
   "metadata": {},
   "source": [
    "** \"A toolkit for developing and comparing reinforcement learning algorithms. It supports teaching agents everything from walking to playing games like Pong or Go.\" ** \n",
    "\n",
    "__[Homepage](https://gym.openai.com/)__ || __[GitHub](https://github.com/openai/gym)__  \n"
   ]
  },
  {
   "cell_type": "markdown",
   "metadata": {},
   "source": [
    "We are using Ubuntu 16.04. with Python 2.7 already installed,\n",
    "so in order to use all the environments in the OpenAI gym we need the following packages: "
   ]
  },
  {
   "cell_type": "markdown",
   "metadata": {},
   "source": [
    "```\n",
    "$ sudo apt-get install -y python-numpy python-dev cmake zlib1g-dev libjpeg-dev xvfb libav-tools xorg-dev python-opengl libboost-all-dev libsdl2-dev swig \n",
    "```"
   ]
  },
  {
   "cell_type": "markdown",
   "metadata": {},
   "source": [
    "After that we can use pip to do a full install of the gym."
   ]
  },
  {
   "cell_type": "markdown",
   "metadata": {},
   "source": [
    "```\n",
    "$ sudo pip install gym[all] # Full Installation\n",
    "\n",
    "$ sudo pip install gym # Minimal Installation see git\n",
    "```"
   ]
  },
  {
   "cell_type": "markdown",
   "metadata": {},
   "source": [
    "## Tensorflow"
   ]
  },
  {
   "cell_type": "markdown",
   "metadata": {},
   "source": [
    " **\"An open-source software library for Machine Intelligence.\n",
    "TensorFlow™ is an open source software library for numerical computation using data flow graphs.\" ** \n",
    "\n",
    "__[Homepage](https://www.tensorflow.org/)__ || __[GitHub](https://github.com/tensorflow/tensorflow)__  \n"
   ]
  },
  {
   "cell_type": "markdown",
   "metadata": {},
   "source": [
    "Chose one of the following packages.\n",
    "For other Python versions and a more detailed installation guide visit the homepage."
   ]
  },
  {
   "cell_type": "markdown",
   "metadata": {},
   "source": [
    "```\n",
    "$ sudo pip install tensorflow      # Python 2.7; CPU support (no GPU)\n",
    "$ sudo pip install tensorflow-gpu  # Python 2.7; GPU support\n",
    "\n",
    "```"
   ]
  },
  {
   "cell_type": "markdown",
   "metadata": {},
   "source": [
    "For further optimisation it is necessary to build the tensorflow source on your own. Which is explained [here](https://www.tensorflow.org/install/install_sources)."
   ]
  },
  {
   "cell_type": "markdown",
   "metadata": {},
   "source": [
    " \n",
    " \n",
    " "
   ]
  },
  {
   "cell_type": "markdown",
   "metadata": {},
   "source": [
    "## Getting Jupyter"
   ]
  },
  {
   "cell_type": "markdown",
   "metadata": {},
   "source": [
    "__[Homepage](http://jupyter.org/index.html)__ || __[Installation](http://jupyter.org/install.html)__  "
   ]
  },
  {
   "cell_type": "markdown",
   "metadata": {},
   "source": [
    "If you want to follow the guide more closely we strongly recommend installing jupyter and run our notebooks with it."
   ]
  },
  {
   "cell_type": "markdown",
   "metadata": {},
   "source": [
    "```\n",
    "$ sudo apt-get -y install ipython ipython-notebook\n",
    "$ sudo pip install jupyter \n",
    "```"
   ]
  },
  {
   "cell_type": "markdown",
   "metadata": {
    "collapsed": true
   },
   "source": [
    "To run the notebook open your terminal write:"
   ]
  },
  {
   "cell_type": "markdown",
   "metadata": {},
   "source": [
    "```ruby\n",
    "$ jupyter notebook \n",
    "```"
   ]
  },
  {
   "cell_type": "markdown",
   "metadata": {},
   "source": [
    "Now you can navigate to our notebooks and open them. "
   ]
  },
  {
   "cell_type": "markdown",
   "metadata": {},
   "source": [
    "If you are not familiar with jupyter don't worry, the layout is very intuitive and we will mention important things in our guide anyways. "
   ]
  },
  {
   "cell_type": "markdown",
   "metadata": {},
   "source": [
    "### Note\n",
    "\n",
    "Whenever you get errors during the installation make sure that all your packages, especially pip are up to date. Also note that we are using Python 2.7. "
   ]
  },
  {
   "cell_type": "markdown",
   "metadata": {},
   "source": [
    "## Test your installation\n",
    "\n",
    "by running the following code either in your installed jupyter notebook session or in your local python environment. (To run the code press Shift+Enter in the cell.) "
   ]
  },
  {
   "cell_type": "code",
   "execution_count": 2,
   "metadata": {},
   "outputs": [
    {
     "name": "stderr",
     "output_type": "stream",
     "text": [
      "[2017-09-22 10:25:34,705] Making new env: Pong-v0\n"
     ]
    }
   ],
   "source": [
    "import gym\n",
    "env = gym.make('Pong-v0') #for a full install\n",
    "#env = gym.make('CartPole-v0') #for the minimal install\n",
    "env.reset()\n",
    "env.render()"
   ]
  },
  {
   "cell_type": "markdown",
   "metadata": {},
   "source": [
    "you should now see a rendered image of the game environment. "
   ]
  },
  {
   "cell_type": "markdown",
   "metadata": {},
   "source": [
    "<font> Unfortunately to remove the window you have to restart the IPython Kernel. To do this simply klick on the Kernel tab above and choose Restart. Generally if you get any problems running the code restarting the kernel is the first thing I would suggest trying.  </font>"
   ]
  },
  {
   "cell_type": "code",
   "execution_count": 3,
   "metadata": {
    "scrolled": true
   },
   "outputs": [
    {
     "name": "stdout",
     "output_type": "stream",
     "text": [
      "Hello, Tensorflow!\n",
      "42\n"
     ]
    }
   ],
   "source": [
    "import tensorflow as tf\n",
    "\n",
    "hello = tf.constant('Hello, Tensorflow!')\n",
    "sess = tf.Session()\n",
    "print(sess.run(hello))\n",
    "\n",
    "a = tf.constant(10)\n",
    "b = tf.constant(32)\n",
    "print(sess.run(tf.add(a,b)))\n",
    "sess.close()"
   ]
  },
  {
   "cell_type": "markdown",
   "metadata": {},
   "source": [
    "Output: \n",
    "\n",
    "```Hello, Tensorflow!\n",
    "42 ```"
   ]
  },
  {
   "cell_type": "markdown",
   "metadata": {},
   "source": [
    "\n"
   ]
  },
  {
   "cell_type": "markdown",
   "metadata": {},
   "source": [
    "Now let's get started..."
   ]
  },
  {
   "cell_type": "markdown",
   "metadata": {},
   "source": [
    "  "
   ]
  },
  {
   "cell_type": "markdown",
   "metadata": {},
   "source": [
    "  "
   ]
  },
  {
   "cell_type": "markdown",
   "metadata": {},
   "source": [
    "## Setting up the Server"
   ]
  },
  {
   "cell_type": "markdown",
   "metadata": {},
   "source": [
    "### Adding users and permissions"
   ]
  },
  {
   "cell_type": "markdown",
   "metadata": {},
   "source": [
    "We are using Ubuntu 16.04 as OS and only have only our root account that we logged in to via ssh. As always at first we add a new user to the system: "
   ]
  },
  {
   "cell_type": "markdown",
   "metadata": {},
   "source": [
    "```\n",
    "$ sudo useradd -m newuser\n",
    "```"
   ]
  },
  {
   "cell_type": "markdown",
   "metadata": {},
   "source": [
    "Note that '-m' creates the home directory for newuser. In order to give him a password write: "
   ]
  },
  {
   "cell_type": "markdown",
   "metadata": {},
   "source": [
    "```\n",
    "$ sudo passwd newuser\n",
    "```"
   ]
  },
  {
   "cell_type": "markdown",
   "metadata": {
    "collapsed": true
   },
   "source": [
    "To create a group with sudo permission: "
   ]
  },
  {
   "cell_type": "markdown",
   "metadata": {},
   "source": [
    "```\n",
    "$ sudo groupadd wheel \n",
    "```"
   ]
  },
  {
   "cell_type": "markdown",
   "metadata": {},
   "source": [
    "Now we edit the sudoers file to give the group member the rights."
   ]
  },
  {
   "cell_type": "markdown",
   "metadata": {},
   "source": [
    "```\n",
    "$ sudo visudo\n",
    "```"
   ]
  },
  {
   "cell_type": "markdown",
   "metadata": {},
   "source": [
    "Below  ```#Allow members group sudo...``` add: "
   ]
  },
  {
   "cell_type": "markdown",
   "metadata": {},
   "source": [
    "```\n",
    "%wheel ALL=(ALL:ALL) ALL\n",
    "```"
   ]
  },
  {
   "cell_type": "markdown",
   "metadata": {},
   "source": [
    "Save the file. Make sure to remove the .tmp ending if there is one and that you overwrite the existing one correctly."
   ]
  },
  {
   "cell_type": "markdown",
   "metadata": {},
   "source": [
    "Now we want to add our newuser to our group wheel: "
   ]
  },
  {
   "cell_type": "markdown",
   "metadata": {},
   "source": [
    "```\n",
    "$ usermod -a -G wheel newuser\n",
    "```"
   ]
  },
  {
   "cell_type": "markdown",
   "metadata": {},
   "source": [
    "Now we log in as our newuser and if we want block root access from now on. "
   ]
  },
  {
   "cell_type": "markdown",
   "metadata": {},
   "source": [
    "### Installing Remote Notebooks"
   ]
  },
  {
   "cell_type": "markdown",
   "metadata": {},
   "source": [
    "### If you want multi user access on your server: "
   ]
  },
  {
   "cell_type": "markdown",
   "metadata": {},
   "source": [
    "### Jupyterhub"
   ]
  },
  {
   "cell_type": "markdown",
   "metadata": {},
   "source": [
    "<font> Jupyterhub will be our choice to host multiple user notebooks. It provides an only login page that redirects users to ther own instance of an running jupyter notebook. The accounts will be the user accounts on our OS and the work path will be their home directory. Much more information can be found at their git [repository](https://github.com/jupyterhub/jupyterhub). At first we will install the dependencies and then jupyterhub itself: </font>"
   ]
  },
  {
   "cell_type": "markdown",
   "metadata": {},
   "source": [
    "```\n",
    "$ sudo apt-get install python3 \n",
    "$ sudo apt-get install npm nodejs-legacy\n",
    "$ npm install -g configurable-http-proxy\n",
    "$ sudo apt-get -y install ipython ipython-notebook\n",
    "$ sudo pip3 install jupyter\n",
    "$ sudo pip3 install jupyterhub \n",
    "$ sudo pip3 install --upgrade notebook\n",
    "$ sudo python2 -m pip install ipykernel\n",
    "$ sudo python2 -m ipykernel install \n",
    "```"
   ]
  },
  {
   "cell_type": "markdown",
   "metadata": {},
   "source": [
    "Now we choose a directory where we will start jupyterhub and store the configs for example ``` /etc/jupyterhub```. Go there and execute: "
   ]
  },
  {
   "cell_type": "markdown",
   "metadata": {},
   "source": [
    "In order to get a SSL protected connection; in the same directory we run: "
   ]
  },
  {
   "cell_type": "markdown",
   "metadata": {},
   "source": [
    "```\n",
    "$ openssl req -x509 -nodes -days 365 -newkey rsa:1024 -keyout mykey.key -out mycert.pem\n",
    "```"
   ]
  },
  {
   "cell_type": "markdown",
   "metadata": {},
   "source": [
    "And then create a config for jupyterhub: "
   ]
  },
  {
   "cell_type": "markdown",
   "metadata": {},
   "source": [
    "```\n",
    "$ jupyterhub --generate-config\n",
    "```"
   ]
  },
  {
   "cell_type": "markdown",
   "metadata": {},
   "source": [
    "Open up the ```jupyterhub_config.py``` and uncomment/edit the following lines: "
   ]
  },
  {
   "cell_type": "markdown",
   "metadata": {},
   "source": [
    "````\n",
    "## The public facing ip of the whole application (the proxy)\n",
    "c.JupyterHub.ip = '0.0.0.0' # Enter your server ip here. \n",
    "\n",
    "## The public facing port of the proxy\n",
    "c.JupyterHub.port = 443 ## 443 for https, 80 for http\n",
    "    ## Choose your server ip adress and port to allow public access.\n",
    "    \n",
    "    \n",
    "## Use with ssl_key\n",
    "c.JupyterHub.ssl_cert = 'mycert.pem'\n",
    "\n",
    "## Use with ssl_cert\n",
    "c.JupyterHub.ssl_key = 'mykey.key'\n",
    "    ## Add your SSL key and cert for a more secure connection.\n",
    "    \n",
    "## Defaults to an empty set, in which case no user has admin access.\n",
    "c.Authenticator.admin_users = {'newuser'}    \n",
    "    ## Give your user admin rights for the browser control panel.\n",
    "```"
   ]
  },
  {
   "cell_type": "markdown",
   "metadata": {},
   "source": [
    "That's all. We will be using the default PAMAuthenticator and LocalProcessSpawner, which you can read more about [here](https://github.com/jupyterhub/jupyterhub/wiki/Authenticators). That means we log in with a user on our OS and the jupyter instance will be a new local process. "
   ]
  },
  {
   "cell_type": "markdown",
   "metadata": {},
   "source": [
    "<font>Make sure everything you want to use in the jupyter notebooks is installed for every user on the server! Also all the dependencies for the installed things have to be installed globally, to achieve this for example with python packages use: ``` sudo pip``` instead of only ```pip```.</font>"
   ]
  },
  {
   "cell_type": "markdown",
   "metadata": {},
   "source": [
    "To start jupyterhub go to your choosen directory and simply write: "
   ]
  },
  {
   "cell_type": "markdown",
   "metadata": {},
   "source": [
    "```\n",
    "$ jupyterhub\n",
    "```"
   ]
  },
  {
   "cell_type": "markdown",
   "metadata": {},
   "source": [
    "You should now be able to log in with your servers ip adress  https://0.0.0.0:443 and your user account. "
   ]
  },
  {
   "cell_type": "markdown",
   "metadata": {},
   "source": [
    "### If you want single user access on your server: "
   ]
  },
  {
   "cell_type": "markdown",
   "metadata": {},
   "source": [
    "Follow this [guide](http://jupyter-notebook.readthedocs.io/en/stable/public_server.html). You just install jupyter on your server the same way you would do it on your local PC, like [above](#Getting-Jupyter). Then you set a password and configure SSL and connection information like we did for jupyterhub. Finally you can connect on a single jupyter instance from your browser. "
   ]
  },
  {
   "cell_type": "markdown",
   "metadata": {},
   "source": [
    "### OpenAi Gym"
   ]
  },
  {
   "cell_type": "markdown",
   "metadata": {},
   "source": [
    "This is exactly the same installation as [above](#OpenAi-Gym)."
   ]
  },
  {
   "cell_type": "markdown",
   "metadata": {
    "collapsed": true
   },
   "source": [
    "### Tensorflow"
   ]
  },
  {
   "cell_type": "markdown",
   "metadata": {},
   "source": [
    "The same goes for [Tensorflow](#Tensorflow). Even though it's even more recommended to build it from source here. "
   ]
  },
  {
   "cell_type": "markdown",
   "metadata": {},
   "source": [
    "Of course you can test your installation as mentioned [above](#Test-your-installation )."
   ]
  },
  {
   "cell_type": "markdown",
   "metadata": {},
   "source": [
    "### Starting applications on your server"
   ]
  },
  {
   "cell_type": "markdown",
   "metadata": {},
   "source": [
    "```\n",
    "#to run the Jupyter Notebook\n",
    "\n",
    "$ sudo jupyter notebook --port=443 --ip=176.9.5.89 --allow-root&\n",
    "\n",
    "\n",
    "#to run the Tensorboard\n",
    "\n",
    "$ sudo tensorboard --logdir 'path/to/your/logs' --port=80 --host 0.0.0.0&\n",
    "\n",
    "\n",
    "#to run Jupyterhub\n",
    "\n",
    "$ cd /etc/jupyterhub/\n",
    "$ tmux\n",
    "$ sudo jupyterhub\n",
    "#ctrl+b d to detach window\n",
    "# $ tmux #to attach it again\n",
    "\n",
    "```"
   ]
  },
  {
   "cell_type": "markdown",
   "metadata": {},
   "source": [
    "### Keeping users in sync with our git repository"
   ]
  },
  {
   "cell_type": "markdown",
   "metadata": {},
   "source": [
    "<font>We have a git repository with our notebooks that we want to share with our users. So we created a technical user that has a crontab that automatically pulls the repo into a public folder. From there the users can copy it by themself. \n",
    "$$ $$\n",
    "When we add a user with ``` \"sudo adduser user\"``` we also copy them a ```\"Welcome.ipynb\"``` into their home folder, which includes this cell: \n",
    "</font>"
   ]
  },
  {
   "cell_type": "markdown",
   "metadata": {},
   "source": [
    "```\n",
    "%%bash\n",
    "cp -Rrf /home/tec/public/OpenAI_Gym/ ./\n",
    "```"
   ]
  },
  {
   "cell_type": "markdown",
   "metadata": {},
   "source": [
    "<font>  So as soon as the user executes it he will get the most recent version of the repository. In order to avoid getting his files overwritten the user has to change the second path for getting a newer version after it.  </font>"
   ]
  }
 ],
 "metadata": {
  "kernelspec": {
   "display_name": "Python 2",
   "language": "python",
   "name": "python2"
  },
  "language_info": {
   "codemirror_mode": {
    "name": "ipython",
    "version": 2
   },
   "file_extension": ".py",
   "mimetype": "text/x-python",
   "name": "python",
   "nbconvert_exporter": "python",
   "pygments_lexer": "ipython2",
   "version": "2.7.12"
  }
 },
 "nbformat": 4,
 "nbformat_minor": 2
}
