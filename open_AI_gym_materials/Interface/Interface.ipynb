{
 "cells": [
  {
   "cell_type": "markdown",
   "metadata": {},
   "source": [
    "``` \n",
    "GOAL: \n",
    "\n",
    "Training:\n",
    "                Input:\n",
    "                                Hyper-Parameter (learning rate, batch size, decay rate, gamma, algorithmus ; \n",
    "                                {a3c, Q-lerning, policy gradient)\n",
    "                                Enviroment: State x Action -> (State, reward)\n",
    "                                                Mit schnittstellen wie in OpenAI\n",
    "                                                \n",
    "                Monitoring:\n",
    "                                Loss/Cost-Function\n",
    "                Output:\n",
    "                                State -> Action\n",
    "\n",
    "Application:\n",
    "                Input: State\n",
    "                Output: Action\n",
    "\n",
    "```"
   ]
  },
  {
   "cell_type": "markdown",
   "metadata": {},
   "source": [
    "### Training"
   ]
  },
  {
   "cell_type": "markdown",
   "metadata": {},
   "source": [
    "At first define Input: \n",
    "    - environment e.g. Atari Games like Pong, CartPole, MountainCar\n",
    "    - algorithm (should be compatible) e.g. Default to the environment, a2c, dqn, ddpg\n",
    "    - mode e.g. train or play\n",
    "    - meta parameters e.g. path to save your logs and models, load model "
   ]
  },
  {
   "cell_type": "markdown",
   "metadata": {},
   "source": [
    "We are using the baselines algorithms presented by openai. "
   ]
  },
  {
   "cell_type": "code",
   "execution_count": 2,
   "metadata": {},
   "outputs": [],
   "source": [
    "algorithm_name = 'a3c'\n",
    "%cd $algorithm_name;\n",
    "\n",
    "options = \"\"\n",
    "env_name = 'Pong-v0'\n",
    "options += \"--env-id {} \".format(env_name)\n",
    "\n",
    "mode = 'train'\n",
    "\n",
    "save_path = '/tmp/{}_{}/'.format(env_name, algorithm_name)\n",
    "options += \"--log-dir {} \".format(save_path)\n",
    "\n",
    "load_model = False"
   ]
  },
  {
   "cell_type": "code",
   "execution_count": 22,
   "metadata": {},
   "outputs": [],
   "source": [
    "### A3C options\n",
    "number_workers = 2\n",
    "options += \"--num-workers {} \".format(number_workers)"
   ]
  },
  {
   "cell_type": "code",
   "execution_count": 11,
   "metadata": {},
   "outputs": [
    {
     "name": "stdout",
     "output_type": "stream",
     "text": [
      "Executing the following commands:\n",
      "mkdir -p tmp/Pong-v0_a3c/\n",
      "echo /usr/bin/python train.py --env-id Pong-v0 --log-dir tmp/Pong-v0_a3c/ > tmp/Pong-v0_a3c//cmd.sh\n",
      "kill $( lsof -i:12345 -t ) > /dev/null 2>&1\n",
      "kill $( lsof -i:12222-12223 -t ) > /dev/null 2>&1\n",
      "tmux kill-session -t a3c\n",
      "tmux new-session -s a3c -n ps -d bash\n",
      "tmux new-window -t a3c -n w-0 bash\n",
      "tmux new-window -t a3c -n tb bash\n",
      "tmux new-window -t a3c -n htop bash\n",
      "sleep 1\n",
      "tmux send-keys -t a3c:ps 'CUDA_VISIBLE_DEVICES= /usr/bin/python worker.py --log-dir tmp/Pong-v0_a3c/ --env-id Pong-v0 --num-workers 1 --job-name ps' Enter\n",
      "tmux send-keys -t a3c:w-0 'CUDA_VISIBLE_DEVICES= /usr/bin/python worker.py --log-dir tmp/Pong-v0_a3c/ --env-id Pong-v0 --num-workers 1 --job-name worker --task 0 --remotes 1' Enter\n",
      "tmux send-keys -t a3c:tb 'tensorboard --logdir tmp/Pong-v0_a3c/ --port 12345' Enter\n",
      "tmux send-keys -t a3c:htop htop Enter\n",
      "\n",
      "Use `tmux attach -t a3c` to watch process output\n",
      "Use `tmux kill-session -t a3c` to kill the job\n",
      "Point your browser to http://localhost:12345 to see Tensorboard\n"
     ]
    }
   ],
   "source": [
    "%run train.py $options"
   ]
  }
 ],
 "metadata": {
  "kernelspec": {
   "display_name": "Python 2",
   "language": "python",
   "name": "python2"
  },
  "language_info": {
   "codemirror_mode": {
    "name": "ipython",
    "version": 2
   },
   "file_extension": ".py",
   "mimetype": "text/x-python",
   "name": "python",
   "nbconvert_exporter": "python",
   "pygments_lexer": "ipython2",
   "version": "2.7.12"
  }
 },
 "nbformat": 4,
 "nbformat_minor": 2
}
